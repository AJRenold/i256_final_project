{
 "metadata": {
  "name": ""
 },
 "nbformat": 3,
 "nbformat_minor": 0,
 "worksheets": [
  {
   "cells": [
    {
     "cell_type": "code",
     "collapsed": false,
     "input": [
      "import csv\n",
      "import requests\n",
      "import time\n",
      "from reporter import Reporter\n",
      "from settings import parser_t"
     ],
     "language": "python",
     "metadata": {},
     "outputs": []
    },
    {
     "cell_type": "code",
     "collapsed": false,
     "input": [
      "parser_token = '2a830f7d14fb0b78e3dbc957fe03f0362d7c7a4e'"
     ],
     "language": "python",
     "metadata": {},
     "outputs": []
    },
    {
     "cell_type": "code",
     "collapsed": false,
     "input": [
      "data = {}\n",
      "with open('data/test/buzzLinkTest/nsfw_11-20-2013_15_06.csv') as infile:\n",
      "    f = csv.reader(infile)\n",
      "    for i, line in enumerate(f):\n",
      "        if i == 0:\n",
      "            headers = line\n",
      "        else:\n",
      "            row = {}\n",
      "            for j in range(len(line)):\n",
      "                row[headers[j]] = line[j]\n",
      "            \n",
      "            data[hash(line[0])] = row"
     ],
     "language": "python",
     "metadata": {},
     "outputs": []
    },
    {
     "cell_type": "code",
     "collapsed": false,
     "input": [
      "parser_api = 'http://www.readability.com/api/content/v1/parser?url={link}&token={token}'"
     ],
     "language": "python",
     "metadata": {},
     "outputs": []
    },
    {
     "cell_type": "code",
     "collapsed": false,
     "input": [
      "for row in data.values():\n",
      "    api_params = { 'link': row['link'], \n",
      "        'token': parser_token\n",
      "        }\n",
      "    resp = requests.get(parser_api.format(**api_params))\n",
      "    row.update(resp.json())\n",
      "    time.sleep(1)"
     ],
     "language": "python",
     "metadata": {},
     "outputs": []
    },
    {
     "cell_type": "code",
     "collapsed": false,
     "input": [
      "# Reporter is not working yet here\n",
      "# reporter = Reporter()\n",
      "\n",
      "for row in data.values():\n",
      "    if 'content' in row:\n",
      "        #reporter.read(html=row['content'])\n",
      "        #print reporter.report_news()\n",
      "        print row['content']\n",
      "        print 'Next item', '*' * 20"
     ],
     "language": "python",
     "metadata": {},
     "outputs": []
    }
   ],
   "metadata": {}
  }
 ]
}