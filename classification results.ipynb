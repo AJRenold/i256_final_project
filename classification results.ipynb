{
 "metadata": {
  "name": ""
 },
 "nbformat": 3,
 "nbformat_minor": 0,
 "worksheets": [
  {
   "cells": [
    {
     "cell_type": "code",
     "collapsed": false,
     "input": [
      "!ls"
     ],
     "language": "python",
     "metadata": {},
     "outputs": [
      {
       "output_type": "stream",
       "stream": "stdout",
       "text": [
        "analyze_turk_results.py  dataSplitter.py       readability_api.ipynb\r\n",
        "bigram_features.py\t dataSplitter.pyc      readme.md\r\n",
        "bigram_features.pyc\t generate_turk_csv.py  reporter\r\n",
        "classify.py\t\t load_db.py\t       requirements.txt\r\n",
        "crawler.py\t\t load_turk_results.py  rssProcessor.py\r\n",
        "crawler_v2.py\t\t log_file18112013.log  settings.pyc\r\n",
        "data\t\t\t log_file21112013.log  test.py\r\n",
        "DataPuller.py\t\t log_file.log\t       Untitled0.ipynb\r\n",
        "DataPuller.pyc\t\t log.txt\t       venv\r\n"
       ]
      }
     ],
     "prompt_number": 2
    },
    {
     "cell_type": "code",
     "collapsed": false,
     "input": [
      "# CV parameters ngram_range=(2,2), token_pattern=r'\\b\\w+\\b', stop_words='english', max_features=1000\n",
      "!python classify.py --m BasicBigram"
     ],
     "language": "python",
     "metadata": {},
     "outputs": [
      {
       "output_type": "stream",
       "stream": "stdout",
       "text": [
        "Established db con\r\n"
       ]
      },
      {
       "output_type": "stream",
       "stream": "stdout",
       "text": [
        "/home/arenold/i256_final_project/venv/lib/python2.7/site-packages/numpy/core/_methods.py:55: RuntimeWarning: Mean of empty slice.\r\n",
        "  warnings.warn(\"Mean of empty slice.\", RuntimeWarning)\r\n"
       ]
      },
      {
       "output_type": "stream",
       "stream": "stdout",
       "text": [
        "________________________________________________________________________________\r\n",
        "Training: [Model Type: BasicBigram]\r\n",
        "SGDClassifier(alpha=0.0001, class_weight=None, epsilon=0.1, eta0=0.0,\r\n",
        "       fit_intercept=True, l1_ratio=0.15, learning_rate=optimal, loss=log,\r\n",
        "       n_iter=5, n_jobs=1, penalty=elasticnet, power_t=0.5,\r\n",
        "       random_state=None, rho=None, shuffle=False, verbose=0,\r\n",
        "       warm_start=False)\r\n",
        "train time: 0.004s\r\n",
        "test time:  0.000s\r\n",
        "f1-score:   0.154\r\n",
        "dimensionality: 1000\r\n",
        "density: 0.792000\r\n",
        "Top 10 tokens:\r\n",
        "smoking gun dad s oh god s pretty police department t say thing s girl s t st...\r\n",
        "\r\n",
        "Next 10\r\n",
        "s working t agree winston s t think s 13 ll make t stay hey s long term just ...\r\n",
        "\r\n",
        "Next 10\r\n",
        "sexual orientation 16 time s public s definitely s mother make feel black dre...\r\n",
        "\r\n",
        "classification report:\r\n",
        "             precision    recall  f1-score   support\r\n",
        "\r\n",
        "          0       0.96      0.86      0.91       189\r\n",
        "          1       0.10      0.30      0.15        10\r\n",
        "\r\n",
        "avg / total       0.92      0.83      0.87       199\r\n",
        "\r\n",
        "\r\n",
        "________________________________________________________________________________\r\n",
        "Training: [Model Type: BasicBigram]\r\n",
        "BernoulliNB(alpha=1.0, binarize=0.0, class_prior=None, fit_prior=True)\r\n",
        "train time: 0.002s\r\n",
        "test time:  0.001s\r\n",
        "f1-score:   0.095\r\n",
        "dimensionality: 1000\r\n",
        "density: 1.000000\r\n",
        "Top 10 tokens:\r\n",
        "t like won t wasn t isn t t want t know u s didn t doesn t don t\r\n",
        "\r\n",
        "Next 10\r\n",
        "said s people think people don think s http youtube t stop s going high schoo...\r\n",
        "\r\n",
        "Next 10\r\n",
        "facebook page told buzzfeed girl s com watch youtube com man s sexual orienta...\r\n",
        "\r\n",
        "classification report:\r\n",
        "             precision    recall  f1-score   support\r\n",
        "\r\n",
        "          0       0.95      0.95      0.95       189\r\n",
        "          1       0.09      0.10      0.10        10\r\n",
        "\r\n",
        "avg / total       0.91      0.90      0.91       199\r\n",
        "\r\n",
        "\r\n",
        "________________________________________________________________________________\r\n",
        "Training: [Model Type: BasicBigram]\r\n",
        "SVC(C=1.0, cache_size=200, class_weight=None, coef0=0.0, degree=3, gamma=0.0,\r\n",
        "  kernel=linear, max_iter=-1, probability=False, random_state=None,\r\n",
        "  shrinking=True, tol=0.001, verbose=False)\r\n"
       ]
      },
      {
       "output_type": "stream",
       "stream": "stdout",
       "text": [
        "train time: 0.042s\r\n",
        "test time:  0.008s\r\n",
        "f1-score:   0.105\r\n",
        "dimensionality: 1000\r\n",
        "density: 0.839000\r\n",
        "Top 10 tokens:\r\n"
       ]
      },
      {
       "output_type": "stream",
       "stream": "stdout",
       "text": [
        "Traceback (most recent call last):\r\n",
        "  File \"classify.py\", line 439, in <module>\r\n",
        "    main()\r\n",
        "  File \"classify.py\", line 99, in main\r\n",
        "    benchmarkSKLearn(svmClas, bm)\r\n",
        "  File \"classify.py\", line 406, in benchmarkSKLearn\r\n",
        "    top10 = np.argsort(clf.coef_[0])[-10:]\r\n",
        "IndexError: invalid index to scalar variable.\r\n"
       ]
      }
     ],
     "prompt_number": 16
    },
    {
     "cell_type": "code",
     "collapsed": false,
     "input": [
      "# CV parameters ngram_range=(1,2), token_pattern=r'\\b\\w+\\b', stop_words='english'\n",
      "!python classify.py --m BasicBigram"
     ],
     "language": "python",
     "metadata": {},
     "outputs": [
      {
       "output_type": "stream",
       "stream": "stdout",
       "text": [
        "Established db con\r\n"
       ]
      },
      {
       "output_type": "stream",
       "stream": "stdout",
       "text": [
        "/home/arenold/i256_final_project/venv/lib/python2.7/site-packages/numpy/core/_methods.py:55: RuntimeWarning: Mean of empty slice.\r\n",
        "  warnings.warn(\"Mean of empty slice.\", RuntimeWarning)\r\n"
       ]
      },
      {
       "output_type": "stream",
       "stream": "stdout",
       "text": [
        "________________________________________________________________________________\r\n",
        "Training: [Model Type: BasicBigram]\r\n",
        "SGDClassifier(alpha=0.0001, class_weight=None, epsilon=0.1, eta0=0.0,\r\n",
        "       fit_intercept=True, l1_ratio=0.15, learning_rate=optimal, loss=log,\r\n",
        "       n_iter=5, n_jobs=1, penalty=elasticnet, power_t=0.5,\r\n",
        "       random_state=None, rho=None, shuffle=False, verbose=0,\r\n",
        "       warm_start=False)\r\n"
       ]
      },
      {
       "output_type": "stream",
       "stream": "stdout",
       "text": [
        "train time: 0.030s\r\n",
        "test time:  0.001s\r\n",
        "f1-score:   0.375\r\n",
        "dimensionality: 147920\r\n",
        "density: 0.205388\r\n",
        "Top 10 tokens:\r\n",
        "d work fictional thing andrew kaczynski kaczynski screenshot kaczynski google...\r\n",
        "\r\n",
        "Next 10\r\n",
        "speakes work andrew q archive rape played fictional screenshot work fictional\r\n",
        "\r\n",
        "Next 10\r\n",
        "sexual dprk men gay mr hero women news mr speakes academy\r\n",
        "\r\n",
        "classification report:\r\n",
        "             precision    recall  f1-score   support\r\n",
        "\r\n",
        "          0       0.96      0.98      0.97       189\r\n",
        "          1       0.50      0.30      0.37        10\r\n",
        "\r\n",
        "avg / total       0.94      0.95      0.94       199\r\n",
        "\r\n",
        "\r\n",
        "________________________________________________________________________________\r\n",
        "Training: [Model Type: BasicBigram]\r\n",
        "BernoulliNB(alpha=1.0, binarize=0.0, class_prior=None, fit_prior=True)\r\n"
       ]
      },
      {
       "output_type": "stream",
       "stream": "stdout",
       "text": [
        "train time: 0.049s\r\n"
       ]
      },
      {
       "output_type": "stream",
       "stream": "stdout",
       "text": [
        "test time:  0.034s\r\n",
        "/home/arenold/i256_final_project/venv/lib/python2.7/site-packages/sklearn/metrics/metrics.py:1249: UserWarning: The sum of true positives and false positives are equal to zero for some labels. Precision is ill defined for those labels [1]. The precision and recall are equal to zero for some labels. fbeta_score is ill defined for those labels [1]. \r\n",
        "  average=average)\r\n",
        "f1-score:   0.000\r\n",
        "dimensionality: 147920\r\n",
        "density: 1.000000\r\n",
        "Top 10 tokens:\r\n",
        "10 5 9 4 6 3 2 1 t s\r\n",
        "\r\n",
        "Next 10\r\n",
        "time people said 12 13 just like 11 7 8\r\n",
        "\r\n",
        "Next 10\r\n",
        "long 20 know life don t don 17 14 15 16\r\n",
        "\r\n",
        "classification report:\r\n",
        "/home/arenold/i256_final_project/venv/lib/python2.7/site-packages/sklearn/metrics/metrics.py:1905: UserWarning: The sum of true positives and false positives are equal to zero for some labels. Precision is ill defined for those labels [1]. The precision and recall are equal to zero for some labels. fbeta_score is ill defined for those labels [1]. \r\n",
        "  average=None)\r\n",
        "             precision    recall  f1-score   support\r\n",
        "\r\n",
        "          0       0.95      1.00      0.97       189\r\n",
        "          1       0.00      0.00      0.00        10\r\n",
        "\r\n",
        "avg / total       0.90      0.95      0.93       199\r\n",
        "\r\n",
        "\r\n",
        "________________________________________________________________________________\r\n",
        "Training: [Model Type: BasicBigram]\r\n",
        "SVC(C=1.0, cache_size=200, class_weight=None, coef0=0.0, degree=3, gamma=0.0,\r\n",
        "  kernel=rbf, max_iter=-1, probability=False, random_state=None,\r\n",
        "  shrinking=True, tol=0.001, verbose=False)\r\n"
       ]
      },
      {
       "output_type": "stream",
       "stream": "stdout",
       "text": [
        "train time: 0.671s\r\n"
       ]
      },
      {
       "output_type": "stream",
       "stream": "stdout",
       "text": [
        "test time:  0.221s\r\n",
        "f1-score:   0.000\r\n",
        "\r\n"
       ]
      }
     ],
     "prompt_number": 25
    },
    {
     "cell_type": "code",
     "collapsed": false,
     "input": [
      "!python classify.py --m InvDocFreq"
     ],
     "language": "python",
     "metadata": {},
     "outputs": [
      {
       "output_type": "stream",
       "stream": "stdout",
       "text": [
        "Established db con\r\n"
       ]
      },
      {
       "output_type": "stream",
       "stream": "stdout",
       "text": [
        "/home/arenold/i256_final_project/venv/lib/python2.7/site-packages/numpy/core/_methods.py:55: RuntimeWarning: Mean of empty slice.\r\n",
        "  warnings.warn(\"Mean of empty slice.\", RuntimeWarning)\r\n"
       ]
      },
      {
       "output_type": "stream",
       "stream": "stdout",
       "text": [
        "________________________________________________________________________________\r\n",
        "Training: [Model Type: InvDocFreq]\r\n"
       ]
      },
      {
       "output_type": "stream",
       "stream": "stdout",
       "text": [
        "SGDClassifier(alpha=0.0001, class_weight=None, epsilon=0.1, eta0=0.0,\r\n",
        "       fit_intercept=True, l1_ratio=0.15, learning_rate=optimal, loss=log,\r\n",
        "       n_iter=5, n_jobs=1, penalty=elasticnet, power_t=0.5,\r\n",
        "       random_state=None, rho=None, shuffle=False, verbose=0,\r\n",
        "       warm_start=False)\r\n",
        "train time: 0.019s\r\n",
        "test time:  0.001s\r\n",
        "/home/arenold/i256_final_project/venv/lib/python2.7/site-packages/sklearn/metrics/metrics.py:1249: UserWarning: The sum of true positives and false positives are equal to zero for some labels. Precision is ill defined for those labels [1]. The precision and recall are equal to zero for some labels. fbeta_score is ill defined for those labels [1]. \r\n",
        "  average=average)\r\n",
        "f1-score:   0.000\r\n",
        "dimensionality: 23546\r\n",
        "density: 0.047482\r\n",
        "Top 10 tokens:\r\n",
        "hulk gay men butch stop twerking terrysdiary googumproduce cnn women\r\n",
        "\r\n",
        "Next 10\r\n",
        "sex dprk franco pok\u00e9mon rape ponies marijuana speakes dad texas\r\n",
        "\r\n",
        "Next 10\r\n",
        "krokodil never naked cockfighting awkwafina dude official why illegal know\r\n",
        "\r\n",
        "classification report:\r\n",
        "/home/arenold/i256_final_project/venv/lib/python2.7/site-packages/sklearn/metrics/metrics.py:1905: UserWarning: The sum of true positives and false positives are equal to zero for some labels. Precision is ill defined for those labels [1]. The precision and recall are equal to zero for some labels. fbeta_score is ill defined for those labels [1]. \r\n",
        "  average=None)\r\n",
        "             precision    recall  f1-score   support\r\n",
        "\r\n",
        "          0       0.95      1.00      0.97       189\r\n",
        "          1       0.00      0.00      0.00        10\r\n",
        "\r\n",
        "avg / total       0.90      0.95      0.93       199\r\n",
        "\r\n",
        "\r\n",
        "________________________________________________________________________________\r\n",
        "Training: [Model Type: InvDocFreq]\r\n",
        "BernoulliNB(alpha=1.0, binarize=0.0, class_prior=None, fit_prior=True)\r\n",
        "train time: 0.012s\r\n"
       ]
      },
      {
       "output_type": "stream",
       "stream": "stdout",
       "text": [
        "test time:  0.007s\r\n",
        "/home/arenold/i256_final_project/venv/lib/python2.7/site-packages/sklearn/metrics/metrics.py:1249: UserWarning: The precision and recall are equal to zero for some labels. fbeta_score is ill defined for those labels [1]. \r\n",
        "  average=average)\r\n",
        "f1-score:   0.000\r\n",
        "dimensionality: 23546\r\n",
        "density: 1.000000\r\n",
        "Top 10 tokens:\r\n",
        "that is it for and on in of to the\r\n",
        "\r\n",
        "Next 10\r\n",
        "have their was as are be at but this with\r\n",
        "\r\n",
        "Next 10\r\n",
        "10 by they or you from not who there an\r\n",
        "\r\n",
        "classification report:\r\n",
        "/home/arenold/i256_final_project/venv/lib/python2.7/site-packages/sklearn/metrics/metrics.py:1905: UserWarning: The precision and recall are equal to zero for some labels. fbeta_score is ill defined for those labels [1]. \r\n",
        "  average=None)\r\n",
        "             precision    recall  f1-score   support\r\n",
        "\r\n",
        "          0       0.95      0.99      0.97       189\r\n",
        "          1       0.00      0.00      0.00        10\r\n",
        "\r\n",
        "avg / total       0.90      0.94      0.92       199\r\n",
        "\r\n",
        "\r\n",
        "________________________________________________________________________________\r\n",
        "Training: [Model Type: InvDocFreq]\r\n",
        "SVC(C=1.0, cache_size=200, class_weight=None, coef0=0.0, degree=3, gamma=0.0,\r\n",
        "  kernel=linear, max_iter=-1, probability=False, random_state=None,\r\n",
        "  shrinking=True, tol=0.001, verbose=False)\r\n"
       ]
      },
      {
       "output_type": "stream",
       "stream": "stdout",
       "text": [
        "train time: 0.934s\r\n"
       ]
      },
      {
       "output_type": "stream",
       "stream": "stdout",
       "text": [
        "test time:  0.225s\r\n",
        "f1-score:   0.000\r\n",
        "dimensionality: 23546\r\n",
        "density: 0.877941\r\n",
        "Top 10 tokens:\r\n",
        "Traceback (most recent call last):\r\n",
        "  File \"classify.py\", line 439, in <module>\r\n",
        "    main()\r\n",
        "  File \"classify.py\", line 99, in main\r\n",
        "    benchmarkSKLearn(svmClas, bm)\r\n",
        "  File \"classify.py\", line 406, in benchmarkSKLearn\r\n",
        "    top10 = np.argsort(clf.coef_[0])[-10:]\r\n",
        "IndexError: invalid index to scalar variable.\r\n"
       ]
      }
     ],
     "prompt_number": 20
    },
    {
     "cell_type": "code",
     "collapsed": false,
     "input": [
      "# CV parameters stop_words='english'\n",
      "!python classify.py --m Basic"
     ],
     "language": "python",
     "metadata": {},
     "outputs": [
      {
       "output_type": "stream",
       "stream": "stdout",
       "text": [
        "Established db con\r\n"
       ]
      },
      {
       "output_type": "stream",
       "stream": "stdout",
       "text": [
        "/home/arenold/i256_final_project/venv/lib/python2.7/site-packages/numpy/core/_methods.py:55: RuntimeWarning: Mean of empty slice.\r\n",
        "  warnings.warn(\"Mean of empty slice.\", RuntimeWarning)\r\n"
       ]
      },
      {
       "output_type": "stream",
       "stream": "stdout",
       "text": [
        "________________________________________________________________________________\r\n",
        "Training: [Model Type: Basic]\r\n",
        "SGDClassifier(alpha=0.0001, class_weight=None, epsilon=0.1, eta0=0.0,\r\n",
        "       fit_intercept=True, l1_ratio=0.15, learning_rate=optimal, loss=log,\r\n",
        "       n_iter=5, n_jobs=1, penalty=elasticnet, power_t=0.5,\r\n",
        "       random_state=None, rho=None, shuffle=False, verbose=0,\r\n",
        "       warm_start=False)\r\n",
        "train time: 0.022s\r\n",
        "test time:  0.001s\r\n",
        "f1-score:   0.250\r\n",
        "dimensionality: 23253\r\n",
        "density: 0.318798\r\n",
        "Top 10 tokens:\r\n",
        "mr survivors women work thing speakes academy played fictional rape\r\n",
        "\r\n",
        "Next 10\r\n",
        "marijuana cadets andrews screenshot googumproduce awkwafina sexual dprk kaczy...\r\n",
        "\r\n",
        "Next 10\r\n",
        "students clarke texas forward korean long andrew illegal cnn archive\r\n",
        "\r\n",
        "classification report:\r\n",
        "             precision    recall  f1-score   support\r\n",
        "\r\n",
        "          0       0.96      0.94      0.95       189\r\n",
        "          1       0.21      0.30      0.25        10\r\n",
        "\r\n",
        "avg / total       0.92      0.91      0.92       199\r\n",
        "\r\n",
        "\r\n",
        "________________________________________________________________________________\r\n",
        "Training: [Model Type: Basic]\r\n",
        "BernoulliNB(alpha=1.0, binarize=0.0, class_prior=None, fit_prior=True)\r\n"
       ]
      },
      {
       "output_type": "stream",
       "stream": "stdout",
       "text": [
        "train time: 0.013s\r\n",
        "test time:  0.006s\r\n",
        "/home/arenold/i256_final_project/venv/lib/python2.7/site-packages/sklearn/metrics/metrics.py:1249: UserWarning: The precision and recall are equal to zero for some labels. fbeta_score is ill defined for those labels [1]. \r\n",
        "  average=average)\r\n",
        "f1-score:   0.000\r\n",
        "dimensionality: 23253\r\n",
        "density: 1.000000\r\n",
        "Top 10 tokens:\r\n",
        "16 people time said 12 13 just like 11 10\r\n",
        "\r\n",
        "Next 10\r\n",
        "going long make don know 20 life 14 17 15\r\n",
        "\r\n",
        "Next 10\r\n",
        "little 18 man did look year want good think 19\r\n",
        "\r\n",
        "classification report:\r\n",
        "/home/arenold/i256_final_project/venv/lib/python2.7/site-packages/sklearn/metrics/metrics.py:1905: UserWarning: The precision and recall are equal to zero for some labels. fbeta_score is ill defined for those labels [1]. \r\n",
        "  average=None)\r\n",
        "             precision    recall  f1-score   support\r\n",
        "\r\n",
        "          0       0.95      0.99      0.97       189\r\n",
        "          1       0.00      0.00      0.00        10\r\n",
        "\r\n",
        "avg / total       0.90      0.94      0.92       199\r\n",
        "\r\n",
        "\r\n",
        "________________________________________________________________________________\r\n",
        "Training: [Model Type: Basic]\r\n",
        "SVC(C=1.0, cache_size=200, class_weight=None, coef0=0.0, degree=3, gamma=0.0,\r\n",
        "  kernel=linear, max_iter=-1, probability=False, random_state=None,\r\n",
        "  shrinking=True, tol=0.001, verbose=False)\r\n"
       ]
      },
      {
       "output_type": "stream",
       "stream": "stdout",
       "text": [
        "train time: 0.381s\r\n"
       ]
      },
      {
       "output_type": "stream",
       "stream": "stdout",
       "text": [
        "test time:  0.113s\r\n",
        "f1-score:   0.000\r\n",
        "dimensionality: 23253\r\n",
        "density: 0.620995\r\n",
        "Top 10 tokens:\r\n",
        "Traceback (most recent call last):\r\n",
        "  File \"classify.py\", line 439, in <module>\r\n",
        "    main()\r\n",
        "  File \"classify.py\", line 99, in main\r\n",
        "    benchmarkSKLearn(svmClas, bm)\r\n",
        "  File \"classify.py\", line 406, in benchmarkSKLearn\r\n",
        "    top10 = np.argsort(clf.coef_[0])[-10:]\r\n",
        "IndexError: invalid index to scalar variable.\r\n"
       ]
      }
     ],
     "prompt_number": 19
    },
    {
     "cell_type": "code",
     "collapsed": false,
     "input": [
      "# CV parameters ngram_range=(1,2), token_pattern=r'\\b\\w+\\b', stop_words='english', max_features=1000\n",
      "!python classify.py --m BasicBigram"
     ],
     "language": "python",
     "metadata": {},
     "outputs": [
      {
       "output_type": "stream",
       "stream": "stdout",
       "text": [
        "Established db con\r\n"
       ]
      },
      {
       "output_type": "stream",
       "stream": "stdout",
       "text": [
        "/home/arenold/i256_final_project/venv/lib/python2.7/site-packages/numpy/core/_methods.py:55: RuntimeWarning: Mean of empty slice.\r\n",
        "  warnings.warn(\"Mean of empty slice.\", RuntimeWarning)\r\n"
       ]
      },
      {
       "output_type": "stream",
       "stream": "stdout",
       "text": [
        "Cross Validation: [Model Type: BasicBigram]\r\n"
       ]
      },
      {
       "output_type": "stream",
       "stream": "stdout",
       "text": [
        "/home/arenold/i256_final_project/venv/lib/python2.7/site-packages/sklearn/metrics/metrics.py:1249: UserWarning: The precision and recall are equal to zero for some labels. fbeta_score is ill defined for those labels [1]. \r\n",
        "  average=average)\r\n"
       ]
      },
      {
       "output_type": "stream",
       "stream": "stdout",
       "text": [
        "\r\n",
        "\r\n",
        "F1 Score: 0.18 (+/- 0.37)\r\n",
        "\r\n",
        "\r\n"
       ]
      }
     ],
     "prompt_number": 9
    },
    {
     "cell_type": "code",
     "collapsed": false,
     "input": [
      "# CV parameters ngram_range=(2,2), token_pattern=r'\\b\\w+\\b', stop_words='english', max_features=500\n",
      "!python classify.py --m BasicBigram"
     ],
     "language": "python",
     "metadata": {},
     "outputs": [
      {
       "output_type": "stream",
       "stream": "stdout",
       "text": [
        "Established db con\r\n"
       ]
      },
      {
       "output_type": "stream",
       "stream": "stdout",
       "text": [
        "/home/arenold/i256_final_project/venv/lib/python2.7/site-packages/numpy/core/_methods.py:55: RuntimeWarning: Mean of empty slice.\r\n",
        "  warnings.warn(\"Mean of empty slice.\", RuntimeWarning)\r\n"
       ]
      },
      {
       "output_type": "stream",
       "stream": "stdout",
       "text": [
        "Cross Validation: [Model Type: BasicBigram]\r\n",
        "/home/arenold/i256_final_project/venv/lib/python2.7/site-packages/sklearn/metrics/metrics.py:1249: UserWarning: The precision and recall are equal to zero for some labels. fbeta_score is ill defined for those labels [1]. \r\n",
        "  average=average)\r\n",
        "\r\n",
        "\r\n",
        "F1 Score: 0.15 (+/- 0.32)\r\n",
        "\r\n",
        "\r\n"
       ]
      }
     ],
     "prompt_number": 7
    },
    {
     "cell_type": "code",
     "collapsed": false,
     "input": [
      "# CV parameters ngram_range=(2,2), token_pattern=r'\\b\\w+\\b', stop_words='english', max_features=1000\n",
      "!python classify.py --m BasicBigram"
     ],
     "language": "python",
     "metadata": {},
     "outputs": [
      {
       "output_type": "stream",
       "stream": "stdout",
       "text": [
        "Established db con\r\n"
       ]
      },
      {
       "output_type": "stream",
       "stream": "stdout",
       "text": [
        "/home/arenold/i256_final_project/venv/lib/python2.7/site-packages/numpy/core/_methods.py:55: RuntimeWarning: Mean of empty slice.\r\n",
        "  warnings.warn(\"Mean of empty slice.\", RuntimeWarning)\r\n"
       ]
      },
      {
       "output_type": "stream",
       "stream": "stdout",
       "text": [
        "Cross Validation: [Model Type: BasicBigram]\r\n",
        "/home/arenold/i256_final_project/venv/lib/python2.7/site-packages/sklearn/metrics/metrics.py:1249: UserWarning: The precision and recall are equal to zero for some labels. fbeta_score is ill defined for those labels [1]. \r\n",
        "  average=average)\r\n"
       ]
      },
      {
       "output_type": "stream",
       "stream": "stdout",
       "text": [
        "\r\n",
        "\r\n",
        "F1 Score: 0.15 (+/- 0.26)\r\n",
        "\r\n",
        "\r\n"
       ]
      }
     ],
     "prompt_number": 8
    },
    {
     "cell_type": "code",
     "collapsed": false,
     "input": [
      "# CV parameters stop_words='english'\n",
      "!python classify.py --m Basic"
     ],
     "language": "python",
     "metadata": {},
     "outputs": [
      {
       "output_type": "stream",
       "stream": "stdout",
       "text": [
        "Established db con\r\n"
       ]
      },
      {
       "output_type": "stream",
       "stream": "stdout",
       "text": [
        "/home/arenold/i256_final_project/venv/lib/python2.7/site-packages/numpy/core/_methods.py:55: RuntimeWarning: Mean of empty slice.\r\n",
        "  warnings.warn(\"Mean of empty slice.\", RuntimeWarning)\r\n"
       ]
      },
      {
       "output_type": "stream",
       "stream": "stdout",
       "text": [
        "Cross Validation: [Model Type: Basic]\r\n",
        "/home/arenold/i256_final_project/venv/lib/python2.7/site-packages/sklearn/metrics/metrics.py:1249: UserWarning: The precision and recall are equal to zero for some labels. fbeta_score is ill defined for those labels [1]. \r\n",
        "  average=average)\r\n"
       ]
      },
      {
       "output_type": "stream",
       "stream": "stdout",
       "text": [
        "\r\n",
        "\r\n",
        "F1 Score: 0.22 (+/- 0.40)\r\n",
        "\r\n",
        "\r\n"
       ]
      }
     ],
     "prompt_number": 4
    },
    {
     "cell_type": "code",
     "collapsed": false,
     "input": [
      "# clf = NaiveBayesClassifier\n",
      "!python classify.py --m NLTKSingleWord"
     ],
     "language": "python",
     "metadata": {},
     "outputs": [
      {
       "output_type": "stream",
       "stream": "stdout",
       "text": [
        "Established db con\r\n"
       ]
      },
      {
       "output_type": "stream",
       "stream": "stdout",
       "text": [
        "/home/arenold/i256_final_project/venv/lib/python2.7/site-packages/numpy/core/_methods.py:55: RuntimeWarning: Mean of empty slice.\r\n",
        "  warnings.warn(\"Mean of empty slice.\", RuntimeWarning)\r\n"
       ]
      },
      {
       "output_type": "stream",
       "stream": "stdout",
       "text": [
        "________________________________________________________________________________\r\n",
        "Training: [Model Type: NLTKSingleWord]\r\n",
        "<class 'nltk.classify.naivebayes.NaiveBayesClassifier'>\r\n"
       ]
      },
      {
       "output_type": "stream",
       "stream": "stdout",
       "text": [
        "train time: 2.477s\r\n"
       ]
      },
      {
       "output_type": "stream",
       "stream": "stdout",
       "text": [
        "test time:  0.521s\r\n",
        "Sensitive precision: 0.0526315789474\r\n",
        "Sensitive recall: 1.0\r\n",
        "Sensitive F-measure: 0.1\r\n",
        "Not Sens precision: 1.0\r\n",
        "Not Sens recall: 0.047619047619\r\n",
        "Not Sens F-measure: 0.0909090909091\r\n",
        "\r\n",
        "50 most informative features\r\n",
        "Most Informative Features\r\n"
       ]
      },
      {
       "output_type": "stream",
       "stream": "stdout",
       "text": [
        "               surviving = True                1 : 0      =     27.9 : 1.0\r\n",
        "                insecure = True                1 : 0      =     27.9 : 1.0\r\n",
        "                   knees = True                1 : 0      =     27.9 : 1.0\r\n",
        "                  banner = True                1 : 0      =     27.9 : 1.0\r\n"
       ]
      },
      {
       "output_type": "stream",
       "stream": "stdout",
       "text": [
        "                    gays = True                1 : 0      =     27.9 : 1.0\r\n",
        "                  spoken = True                1 : 0      =     27.9 : 1.0\r\n",
        "                  policy = True                1 : 0      =     22.2 : 1.0\r\n",
        "                    acts = True                1 : 0      =     21.6 : 1.0\r\n",
        "                    keys = True                1 : 0      =     20.0 : 1.0\r\n",
        "                    aids = True                1 : 0      =     20.0 : 1.0\r\n",
        "              counseling = True                1 : 0      =     20.0 : 1.0\r\n",
        "                  attend = True                1 : 0      =     20.0 : 1.0\r\n",
        "             criticizing = True                1 : 0      =     20.0 : 1.0\r\n",
        "                 suspect = True                1 : 0      =     20.0 : 1.0\r\n",
        "               residence = True                1 : 0      =     20.0 : 1.0\r\n",
        "              conviction = True                1 : 0      =     20.0 : 1.0\r\n",
        "              sentencing = True                1 : 0      =     20.0 : 1.0\r\n",
        "          constitutional = True                1 : 0      =     20.0 : 1.0\r\n",
        "                    nest = True                1 : 0      =     20.0 : 1.0\r\n",
        "                 cleared = True                1 : 0      =     20.0 : 1.0\r\n",
        "                    oral = True                1 : 0      =     20.0 : 1.0\r\n",
        "                 arrests = True                1 : 0      =     20.0 : 1.0\r\n",
        "          overwhelmingly = True                1 : 0      =     20.0 : 1.0\r\n",
        "               promotion = True                1 : 0      =     20.0 : 1.0\r\n",
        "                misogyny = True                1 : 0      =     20.0 : 1.0\r\n",
        "            photographed = True                1 : 0      =     20.0 : 1.0\r\n",
        "               commented = True                1 : 0      =     20.0 : 1.0\r\n",
        "                  vagina = True                1 : 0      =     20.0 : 1.0\r\n",
        "                 spouses = True                1 : 0      =     20.0 : 1.0\r\n",
        "                   edits = True                1 : 0      =     20.0 : 1.0\r\n",
        "            intelligence = True                1 : 0      =     20.0 : 1.0\r\n",
        "              criticized = True                1 : 0      =     20.0 : 1.0\r\n",
        "               addressed = True                1 : 0      =     20.0 : 1.0\r\n",
        "                   trial = True                1 : 0      =     20.0 : 1.0\r\n",
        "                   niece = True                1 : 0      =     20.0 : 1.0\r\n",
        "            appreciation = True                1 : 0      =     20.0 : 1.0\r\n",
        "                officers = True                1 : 0      =     20.0 : 1.0\r\n",
        "                  chapel = True                1 : 0      =     20.0 : 1.0\r\n",
        "              theatrical = True                1 : 0      =     20.0 : 1.0\r\n",
        "           investigators = True                1 : 0      =     20.0 : 1.0\r\n",
        "               sentences = True                1 : 0      =     20.0 : 1.0\r\n",
        "                 delayed = True                1 : 0      =     20.0 : 1.0\r\n",
        "                 washing = True                1 : 0      =     20.0 : 1.0\r\n",
        "               willfully = True                1 : 0      =     20.0 : 1.0\r\n",
        "                  priced = True                1 : 0      =     20.0 : 1.0\r\n",
        "                branches = True                1 : 0      =     20.0 : 1.0\r\n",
        "                  stoned = True                1 : 0      =     20.0 : 1.0\r\n",
        "                   rehab = True                1 : 0      =     20.0 : 1.0\r\n",
        "                 illegal = True                1 : 0      =     16.8 : 1.0\r\n",
        "                    task = True                1 : 0      =     16.8 : 1.0\r\n"
       ]
      }
     ],
     "prompt_number": 5
    },
    {
     "cell_type": "code",
     "collapsed": false,
     "input": [
      "# clf = NaiveBayesClassifier\n",
      "# Bigram Features 1000, min_freq >= 3, min_word_len > 3\n",
      "!python classify.py --m NLTKBigram"
     ],
     "language": "python",
     "metadata": {},
     "outputs": [
      {
       "output_type": "stream",
       "stream": "stdout",
       "text": [
        "Established db con\r\n"
       ]
      },
      {
       "output_type": "stream",
       "stream": "stdout",
       "text": [
        "/home/arenold/i256_final_project/venv/lib/python2.7/site-packages/numpy/core/_methods.py:55: RuntimeWarning: Mean of empty slice.\r\n",
        "  warnings.warn(\"Mean of empty slice.\", RuntimeWarning)\r\n"
       ]
      },
      {
       "output_type": "stream",
       "stream": "stdout",
       "text": [
        "________________________________________________________________________________\r\n",
        "Training: [Model Type: NLTKBigram]\r\n",
        "<class 'nltk.classify.naivebayes.NaiveBayesClassifier'>\r\n"
       ]
      },
      {
       "output_type": "stream",
       "stream": "stdout",
       "text": [
        "train time: 2.880s\r\n"
       ]
      },
      {
       "output_type": "stream",
       "stream": "stdout",
       "text": [
        "test time:  2.183s\r\n",
        "Sensitive precision: 0.333333333333\r\n",
        "Sensitive recall: 0.1\r\n",
        "Sensitive F-measure: 0.153846153846\r\n",
        "Not Sens precision: 0.954081632653\r\n",
        "Not Sens recall: 0.989417989418\r\n",
        "Not Sens F-measure: 0.971428571429\r\n",
        "\r\n",
        "50 most informative features\r\n",
        "Most Informative Features\r\n"
       ]
      },
      {
       "output_type": "stream",
       "stream": "stdout",
       "text": [
        "       (u'shot', u'and') = True                1 : 0      =     35.6 : 1.0\r\n",
        "     (u'and', u'killed') = True                1 : 0      =     35.6 : 1.0\r\n",
        "       (u'women', u'to') = True                1 : 0      =     35.6 : 1.0\r\n",
        "      (u'to', u'pursue') = True                1 : 0      =     27.7 : 1.0\r\n",
        "     (u'police', u'and') = True                1 : 0      =     27.7 : 1.0\r\n",
        "        (u'my', u'life') = True                1 : 0      =     27.7 : 1.0\r\n",
        "   (u'\\u201ci', u'know') = True                1 : 0      =     27.7 : 1.0\r\n",
        " (u'government', u'and') = True                1 : 0      =     19.8 : 1.0\r\n",
        "       (u'then', u'put') = True                1 : 0      =     19.8 : 1.0\r\n",
        "        (u'of', u'rape') = True                1 : 0      =     19.8 : 1.0\r\n",
        "   (u'her', u'hometown') = True                1 : 0      =     19.8 : 1.0\r\n",
        "    (u'north', u'korea') = True                1 : 0      =     19.8 : 1.0\r\n",
        "   (u'a', u'generation') = True                1 : 0      =     19.8 : 1.0\r\n",
        "     (u'victims', u'of') = True                1 : 0      =     19.8 : 1.0\r\n",
        "     (u'himself', u'to') = True                1 : 0      =     19.8 : 1.0\r\n",
        "(u'defense', u'secretary') = True                1 : 0      =     19.8 : 1.0\r\n",
        "      (u'her', u'phone') = True                1 : 0      =     19.8 : 1.0\r\n",
        "       (u'and', u'once') = True                1 : 0      =     19.8 : 1.0\r\n",
        "    (u'the', u'airport') = True                1 : 0      =     19.8 : 1.0\r\n",
        "     (u'having', u'sex') = True                1 : 0      =     19.8 : 1.0\r\n",
        "       (u'of', u'women') = True                1 : 0      =     16.6 : 1.0\r\n",
        " (u'sexual', u'assault') = True                1 : 0      =     16.6 : 1.0\r\n",
        "      (u'of', u'sexual') = True                1 : 0      =     16.6 : 1.0\r\n",
        "       (u'door', u'and') = True                1 : 0      =     16.6 : 1.0\r\n",
        "       (u'was', u'shot') = True                1 : 0      =     16.6 : 1.0\r\n",
        "      (u'cases', u'are') = True                1 : 0      =     11.9 : 1.0\r\n",
        "(u'constitutional', u'court') = True                1 : 0      =     11.9 : 1.0\r\n",
        "     (u'never', u'work') = True                1 : 0      =     11.9 : 1.0\r\n",
        "        (u'of', u'lgbt') = True                1 : 0      =     11.9 : 1.0\r\n"
       ]
      },
      {
       "output_type": "stream",
       "stream": "stdout",
       "text": [
        "(u'the', u'city\\u2019s') = True                1 : 0      =     11.9 : 1.0\r\n",
        "       (u'it', u'helps') = True                1 : 0      =     11.9 : 1.0\r\n",
        "    (u'winston', u'and') = True                1 : 0      =     11.9 : 1.0\r\n",
        "        (u'to', u'even') = True                1 : 0      =     11.9 : 1.0\r\n",
        "    (u'of', u'same-sex') = True                1 : 0      =     11.9 : 1.0\r\n",
        "     (u'country', u'is') = True                1 : 0      =     11.9 : 1.0\r\n",
        "    (u'puerto', u'rico') = True                1 : 0      =     11.9 : 1.0\r\n",
        "      (u'women', u'are') = True                1 : 0      =     11.9 : 1.0\r\n",
        "      (u'went', u'into') = True                1 : 0      =     11.9 : 1.0\r\n",
        "        (u'make', u'me') = True                1 : 0      =     11.9 : 1.0\r\n",
        "(u'michael', u'jackson') = True                1 : 0      =     11.9 : 1.0\r\n",
        "       (u'story', u'on') = True                1 : 0      =     11.9 : 1.0\r\n",
        "     (u'that', u'whole') = True                1 : 0      =     11.9 : 1.0\r\n",
        " (u'\\u201cthere', u'is') = True                1 : 0      =     11.9 : 1.0\r\n",
        "     (u'our', u'campus') = True                1 : 0      =     11.9 : 1.0\r\n",
        "       (u'queen', u'of') = True                1 : 0      =     11.9 : 1.0\r\n",
        "(u'the', u'academy\\u2019s') = True                1 : 0      =     11.9 : 1.0\r\n",
        " (u'said.', u'\\u201cwe') = True                1 : 0      =     11.9 : 1.0\r\n",
        "       (u'put', u'into') = True                1 : 0      =     11.9 : 1.0\r\n",
        "       (u'go', u'there') = True                1 : 0      =     11.9 : 1.0\r\n",
        "      (u'your', u'dead') = True                1 : 0      =     11.9 : 1.0\r\n"
       ]
      }
     ],
     "prompt_number": 6
    },
    {
     "cell_type": "code",
     "collapsed": false,
     "input": [
      "# clf = DecisionTreeClassifier\n",
      "# Bigram Features 1000, min_freq >= 3, min_word_len > 3\n",
      "!python classify.py --m NLTKBigram"
     ],
     "language": "python",
     "metadata": {},
     "outputs": [
      {
       "output_type": "stream",
       "stream": "stdout",
       "text": [
        "Established db con\r\n"
       ]
      },
      {
       "output_type": "stream",
       "stream": "stdout",
       "text": [
        "/home/arenold/i256_final_project/venv/lib/python2.7/site-packages/numpy/core/_methods.py:55: RuntimeWarning: Mean of empty slice.\r\n",
        "  warnings.warn(\"Mean of empty slice.\", RuntimeWarning)\r\n"
       ]
      },
      {
       "output_type": "stream",
       "stream": "stdout",
       "text": [
        "________________________________________________________________________________\r\n",
        "Training: [Model Type: NLTKBigram]\r\n",
        "<class 'nltk.classify.decisiontree.DecisionTreeClassifier'>\r\n"
       ]
      },
      {
       "output_type": "stream",
       "stream": "stdout",
       "text": [
        "train time: 135.846s\r\n"
       ]
      },
      {
       "output_type": "stream",
       "stream": "stdout",
       "text": [
        "test time:  0.007s\r\n",
        "Sensitive precision: 0.5\r\n",
        "Sensitive recall: 0.1\r\n",
        "Sensitive F-measure: 0.166666666667\r\n",
        "Not Sens precision: 0.954314720812\r\n",
        "Not Sens recall: 0.994708994709\r\n",
        "Not Sens F-measure: 0.974093264249\r\n",
        "\r\n",
        "50 most informative features\r\n",
        "Traceback (most recent call last):\r\n",
        "  File \"classify.py\", line 434, in <module>\r\n",
        "    main()\r\n",
        "  File \"classify.py\", line 82, in main\r\n",
        "    benchmarkNLTK(clf,bm)\r\n",
        "  File \"classify.py\", line 358, in benchmarkNLTK\r\n",
        "    clf.show_most_informative_features(50)\r\n",
        "AttributeError: 'DecisionTreeClassifier' object has no attribute 'show_most_informative_features'\r\n"
       ]
      }
     ],
     "prompt_number": 11
    },
    {
     "cell_type": "code",
     "collapsed": false,
     "input": [
      "# clf = DecisionTreeClassifier\n",
      "# Bigram Features 1500, min_freq >= 3, min_word_len > 3\n",
      "!python classify.py --m NLTKBigram"
     ],
     "language": "python",
     "metadata": {},
     "outputs": [
      {
       "output_type": "stream",
       "stream": "stdout",
       "text": [
        "Established db con\r\n"
       ]
      },
      {
       "output_type": "stream",
       "stream": "stdout",
       "text": [
        "/home/arenold/i256_final_project/venv/lib/python2.7/site-packages/numpy/core/_methods.py:55: RuntimeWarning: Mean of empty slice.\r\n",
        "  warnings.warn(\"Mean of empty slice.\", RuntimeWarning)\r\n"
       ]
      },
      {
       "output_type": "stream",
       "stream": "stdout",
       "text": [
        "________________________________________________________________________________\r\n",
        "Training: [Model Type: NLTKBigram]\r\n",
        "<class 'nltk.classify.decisiontree.DecisionTreeClassifier'>\r\n"
       ]
      },
      {
       "output_type": "stream",
       "stream": "stdout",
       "text": [
        "train time: 215.086s\r\n",
        "test time:  0.006s\r\n",
        "Sensitive precision: 0.333333333333\r\n",
        "Sensitive recall: 0.1\r\n",
        "Sensitive F-measure: 0.153846153846\r\n",
        "Not Sens precision: 0.954081632653\r\n",
        "Not Sens recall: 0.989417989418\r\n",
        "Not Sens F-measure: 0.971428571429\r\n",
        "\r\n",
        "50 most informative features\r\n",
        "Traceback (most recent call last):\r\n",
        "  File \"classify.py\", line 439, in <module>\r\n",
        "    main()\r\n",
        "  File \"classify.py\", line 83, in main\r\n",
        "    benchmarkNLTK(clf,bm)\r\n",
        "  File \"classify.py\", line 363, in benchmarkNLTK\r\n",
        "    clf.show_most_informative_features(50)\r\n",
        "AttributeError: 'DecisionTreeClassifier' object has no attribute 'show_most_informative_features'\r\n"
       ]
      }
     ],
     "prompt_number": 22
    },
    {
     "cell_type": "code",
     "collapsed": false,
     "input": [
      "# clf = NaiveBayesClassifier\n",
      "# Bigram Features 1500, min_freq >= 3, min_word_len > 3\n",
      "!python classify.py --m NLTKBigram"
     ],
     "language": "python",
     "metadata": {},
     "outputs": [
      {
       "output_type": "stream",
       "stream": "stdout",
       "text": [
        "Established db con\r\n"
       ]
      },
      {
       "output_type": "stream",
       "stream": "stdout",
       "text": [
        "/home/arenold/i256_final_project/venv/lib/python2.7/site-packages/numpy/core/_methods.py:55: RuntimeWarning: Mean of empty slice.\r\n",
        "  warnings.warn(\"Mean of empty slice.\", RuntimeWarning)\r\n"
       ]
      },
      {
       "output_type": "stream",
       "stream": "stdout",
       "text": [
        "________________________________________________________________________________\r\n",
        "Training: [Model Type: NLTKBigram]\r\n",
        "<class 'nltk.classify.naivebayes.NaiveBayesClassifier'>\r\n"
       ]
      },
      {
       "output_type": "stream",
       "stream": "stdout",
       "text": [
        "train time: 4.538s\r\n"
       ]
      },
      {
       "output_type": "stream",
       "stream": "stdout",
       "text": [
        "test time:  2.749s\r\n",
        "Sensitive precision: 0.333333333333\r\n",
        "Sensitive recall: 0.1\r\n",
        "Sensitive F-measure: 0.153846153846\r\n",
        "Not Sens precision: 0.954081632653\r\n",
        "Not Sens recall: 0.989417989418\r\n",
        "Not Sens F-measure: 0.971428571429\r\n",
        "\r\n",
        "50 most informative features\r\n",
        "Most Informative Features\r\n"
       ]
      },
      {
       "output_type": "stream",
       "stream": "stdout",
       "text": [
        "       (u'shot', u'and') = True                1 : 0      =     35.6 : 1.0\r\n",
        "     (u'and', u'killed') = True                1 : 0      =     35.6 : 1.0\r\n",
        "       (u'women', u'to') = True                1 : 0      =     35.6 : 1.0\r\n",
        "      (u'to', u'pursue') = True                1 : 0      =     27.7 : 1.0\r\n",
        "     (u'police', u'and') = True                1 : 0      =     27.7 : 1.0\r\n",
        "        (u'my', u'life') = True                1 : 0      =     27.7 : 1.0\r\n",
        "   (u'\\u201ci', u'know') = True                1 : 0      =     27.7 : 1.0\r\n",
        " (u'government', u'and') = True                1 : 0      =     19.8 : 1.0\r\n",
        "       (u'then', u'put') = True                1 : 0      =     19.8 : 1.0\r\n",
        "        (u'of', u'rape') = True                1 : 0      =     19.8 : 1.0\r\n",
        "     (u'himself', u'to') = True                1 : 0      =     19.8 : 1.0\r\n",
        "   (u'her', u'hometown') = True                1 : 0      =     19.8 : 1.0\r\n",
        "    (u'north', u'korea') = True                1 : 0      =     19.8 : 1.0\r\n",
        "   (u'a', u'generation') = True                1 : 0      =     19.8 : 1.0\r\n",
        "     (u'victims', u'of') = True                1 : 0      =     19.8 : 1.0\r\n",
        "(u'defense', u'secretary') = True                1 : 0      =     19.8 : 1.0\r\n",
        "      (u'her', u'phone') = True                1 : 0      =     19.8 : 1.0\r\n",
        "       (u'and', u'once') = True                1 : 0      =     19.8 : 1.0\r\n",
        "    (u'the', u'airport') = True                1 : 0      =     19.8 : 1.0\r\n",
        "     (u'having', u'sex') = True                1 : 0      =     19.8 : 1.0\r\n",
        "       (u'of', u'women') = True                1 : 0      =     16.6 : 1.0\r\n",
        " (u'sexual', u'assault') = True                1 : 0      =     16.6 : 1.0\r\n",
        "      (u'of', u'sexual') = True                1 : 0      =     16.6 : 1.0\r\n",
        "       (u'door', u'and') = True                1 : 0      =     16.6 : 1.0\r\n",
        "       (u'was', u'shot') = True                1 : 0      =     16.6 : 1.0\r\n",
        "      (u'cases', u'are') = True                1 : 0      =     11.9 : 1.0\r\n",
        "    (u'of', u'same-sex') = True                1 : 0      =     11.9 : 1.0\r\n",
        "(u'constitutional', u'court') = True                1 : 0      =     11.9 : 1.0\r\n",
        "     (u'never', u'work') = True                1 : 0      =     11.9 : 1.0\r\n",
        "        (u'of', u'lgbt') = True                1 : 0      =     11.9 : 1.0\r\n",
        "(u'the', u'city\\u2019s') = True                1 : 0      =     11.9 : 1.0\r\n",
        "       (u'it', u'helps') = True                1 : 0      =     11.9 : 1.0\r\n",
        "    (u'winston', u'and') = True                1 : 0      =     11.9 : 1.0\r\n",
        "      (u'her', u'story') = True                1 : 0      =     11.9 : 1.0\r\n",
        "        (u'to', u'even') = True                1 : 0      =     11.9 : 1.0\r\n",
        "     (u'country', u'is') = True                1 : 0      =     11.9 : 1.0\r\n",
        "    (u'puerto', u'rico') = True                1 : 0      =     11.9 : 1.0\r\n",
        "      (u'women', u'are') = True                1 : 0      =     11.9 : 1.0\r\n",
        "      (u'went', u'into') = True                1 : 0      =     11.9 : 1.0\r\n",
        "       (u'put', u'into') = True                1 : 0      =     11.9 : 1.0\r\n",
        "        (u'make', u'me') = True                1 : 0      =     11.9 : 1.0\r\n",
        "(u'michael', u'jackson') = True                1 : 0      =     11.9 : 1.0\r\n",
        "       (u'story', u'on') = True                1 : 0      =     11.9 : 1.0\r\n",
        " (u'\\u201cthere', u'is') = True                1 : 0      =     11.9 : 1.0\r\n",
        "     (u'our', u'campus') = True                1 : 0      =     11.9 : 1.0\r\n",
        "       (u'queen', u'of') = True                1 : 0      =     11.9 : 1.0\r\n",
        "(u'the', u'academy\\u2019s') = True                1 : 0      =     11.9 : 1.0\r\n",
        " (u'said.', u'\\u201cwe') = True                1 : 0      =     11.9 : 1.0\r\n",
        "       (u'go', u'there') = True                1 : 0      =     11.9 : 1.0\r\n",
        "      (u'your', u'dead') = True                1 : 0      =     11.9 : 1.0\r\n"
       ]
      }
     ],
     "prompt_number": 23
    },
    {
     "cell_type": "code",
     "collapsed": false,
     "input": [
      "# clf = DecisionTreeClassifier\n",
      "## WARNING, TAKES AWHLE!\n",
      "!python classify.py --m NLTKSingleWord"
     ],
     "language": "python",
     "metadata": {},
     "outputs": [
      {
       "output_type": "stream",
       "stream": "stdout",
       "text": [
        "Established db con\r\n"
       ]
      },
      {
       "output_type": "stream",
       "stream": "stdout",
       "text": [
        "/home/arenold/i256_final_project/venv/lib/python2.7/site-packages/numpy/core/_methods.py:55: RuntimeWarning: Mean of empty slice.\r\n",
        "  warnings.warn(\"Mean of empty slice.\", RuntimeWarning)\r\n"
       ]
      },
      {
       "output_type": "stream",
       "stream": "stdout",
       "text": [
        "________________________________________________________________________________\r\n",
        "Training: [Model Type: NLTKSingleWord]\r\n",
        "<class 'nltk.classify.decisiontree.DecisionTreeClassifier'>\r\n"
       ]
      },
      {
       "output_type": "stream",
       "stream": "stdout",
       "text": [
        "train time: 4375.747s\r\n",
        "test time:  0.007s\r\n",
        "Sensitive precision: 0.181818181818\r\n",
        "Sensitive recall: 0.2\r\n",
        "Sensitive F-measure: 0.190476190476\r\n",
        "Not Sens precision: 0.957446808511\r\n",
        "Not Sens recall: 0.952380952381\r\n",
        "Not Sens F-measure: 0.954907161804\r\n",
        "\r\n",
        "50 most informative features\r\n",
        "Traceback (most recent call last):\r\n",
        "  File \"classify.py\", line 439, in <module>\r\n",
        "    main()\r\n",
        "  File \"classify.py\", line 83, in main\r\n",
        "    benchmarkNLTK(clf,bm)\r\n",
        "  File \"classify.py\", line 363, in benchmarkNLTK\r\n",
        "    clf.show_most_informative_features(50)\r\n",
        "AttributeError: 'DecisionTreeClassifier' object has no attribute 'show_most_informative_features'\r\n"
       ]
      }
     ],
     "prompt_number": 1
    },
    {
     "cell_type": "code",
     "collapsed": false,
     "input": [
      "# clf = NaiveBayesClassifier\n",
      "!python classify.py --m NLTKBigramUnigramCombo"
     ],
     "language": "python",
     "metadata": {},
     "outputs": [
      {
       "output_type": "stream",
       "stream": "stdout",
       "text": [
        "Established db con\r\n"
       ]
      },
      {
       "output_type": "stream",
       "stream": "stdout",
       "text": [
        "/home/arenold/i256_final_project/venv/lib/python2.7/site-packages/numpy/core/_methods.py:55: RuntimeWarning: Mean of empty slice.\r\n",
        "  warnings.warn(\"Mean of empty slice.\", RuntimeWarning)\r\n"
       ]
      },
      {
       "output_type": "stream",
       "stream": "stdout",
       "text": [
        "________________________________________________________________________________\r\n",
        "Training: [Model Type: NLTKBigramUnigramCombo]\r\n",
        "<class 'nltk.classify.naivebayes.NaiveBayesClassifier'>\r\n"
       ]
      },
      {
       "output_type": "stream",
       "stream": "stdout",
       "text": [
        "train time: 6.156s\r\n"
       ]
      },
      {
       "output_type": "stream",
       "stream": "stdout",
       "text": [
        "test time:  2.755s\r\n",
        "Sensitive precision: 0.0679611650485\r\n",
        "Sensitive recall: 0.7\r\n",
        "Sensitive F-measure: 0.12389380531\r\n",
        "Not Sens precision: 0.96875\r\n",
        "Not Sens recall: 0.492063492063\r\n",
        "Not Sens F-measure: 0.652631578947\r\n",
        "\r\n",
        "50 most informative features\r\n",
        "Most Informative Features\r\n"
       ]
      },
      {
       "output_type": "stream",
       "stream": "stdout",
       "text": [
        "       (u'women', u'to') = True                1 : 0      =     35.6 : 1.0\r\n",
        "     (u'and', u'killed') = True                1 : 0      =     35.6 : 1.0\r\n",
        "       (u'shot', u'and') = True                1 : 0      =     35.6 : 1.0\r\n",
        "                insecure = True                1 : 0      =     27.9 : 1.0\r\n",
        "               surviving = True                1 : 0      =     27.9 : 1.0\r\n",
        "                   knees = True                1 : 0      =     27.9 : 1.0\r\n",
        "                  banner = True                1 : 0      =     27.9 : 1.0\r\n",
        "                    gays = True                1 : 0      =     27.9 : 1.0\r\n",
        "                  spoken = True                1 : 0      =     27.9 : 1.0\r\n",
        "      (u'to', u'pursue') = True                1 : 0      =     27.7 : 1.0\r\n",
        "     (u'police', u'and') = True                1 : 0      =     27.7 : 1.0\r\n",
        "   (u'\\u201ci', u'know') = True                1 : 0      =     27.7 : 1.0\r\n",
        "        (u'my', u'life') = True                1 : 0      =     27.7 : 1.0\r\n",
        "                  policy = True                1 : 0      =     22.2 : 1.0\r\n",
        "                    acts = True                1 : 0      =     21.6 : 1.0\r\n",
        "                    keys = True                1 : 0      =     20.0 : 1.0\r\n",
        "                    aids = True                1 : 0      =     20.0 : 1.0\r\n",
        "                  attend = True                1 : 0      =     20.0 : 1.0\r\n",
        "             criticizing = True                1 : 0      =     20.0 : 1.0\r\n",
        "                 suspect = True                1 : 0      =     20.0 : 1.0\r\n",
        "               residence = True                1 : 0      =     20.0 : 1.0\r\n",
        "              conviction = True                1 : 0      =     20.0 : 1.0\r\n",
        "              sentencing = True                1 : 0      =     20.0 : 1.0\r\n",
        "          constitutional = True                1 : 0      =     20.0 : 1.0\r\n",
        "                    nest = True                1 : 0      =     20.0 : 1.0\r\n",
        "                 cleared = True                1 : 0      =     20.0 : 1.0\r\n",
        "                    oral = True                1 : 0      =     20.0 : 1.0\r\n",
        "                 arrests = True                1 : 0      =     20.0 : 1.0\r\n",
        "          overwhelmingly = True                1 : 0      =     20.0 : 1.0\r\n",
        "               promotion = True                1 : 0      =     20.0 : 1.0\r\n",
        "                misogyny = True                1 : 0      =     20.0 : 1.0\r\n",
        "            photographed = True                1 : 0      =     20.0 : 1.0\r\n",
        "               commented = True                1 : 0      =     20.0 : 1.0\r\n",
        "                  vagina = True                1 : 0      =     20.0 : 1.0\r\n",
        "                 spouses = True                1 : 0      =     20.0 : 1.0\r\n",
        "                   edits = True                1 : 0      =     20.0 : 1.0\r\n",
        "            intelligence = True                1 : 0      =     20.0 : 1.0\r\n",
        "              criticized = True                1 : 0      =     20.0 : 1.0\r\n",
        "               addressed = True                1 : 0      =     20.0 : 1.0\r\n",
        "                   trial = True                1 : 0      =     20.0 : 1.0\r\n",
        "              counseling = True                1 : 0      =     20.0 : 1.0\r\n",
        "                   niece = True                1 : 0      =     20.0 : 1.0\r\n",
        "            appreciation = True                1 : 0      =     20.0 : 1.0\r\n",
        "                officers = True                1 : 0      =     20.0 : 1.0\r\n",
        "                  chapel = True                1 : 0      =     20.0 : 1.0\r\n",
        "              theatrical = True                1 : 0      =     20.0 : 1.0\r\n",
        "           investigators = True                1 : 0      =     20.0 : 1.0\r\n",
        "               sentences = True                1 : 0      =     20.0 : 1.0\r\n",
        "                 delayed = True                1 : 0      =     20.0 : 1.0\r\n",
        "                 washing = True                1 : 0      =     20.0 : 1.0\r\n"
       ]
      }
     ],
     "prompt_number": 2
    },
    {
     "cell_type": "code",
     "collapsed": false,
     "input": [
      "# clf = DecisionTreeClassifier\n",
      "!python classify.py --m NLTKBigramUnigramCombo"
     ],
     "language": "python",
     "metadata": {},
     "outputs": [
      {
       "output_type": "stream",
       "stream": "stdout",
       "text": [
        "Established db con\r\n"
       ]
      },
      {
       "output_type": "stream",
       "stream": "stdout",
       "text": [
        "/home/arenold/i256_final_project/venv/lib/python2.7/site-packages/numpy/core/_methods.py:55: RuntimeWarning: Mean of empty slice.\r\n",
        "  warnings.warn(\"Mean of empty slice.\", RuntimeWarning)\r\n"
       ]
      },
      {
       "output_type": "stream",
       "stream": "stdout",
       "text": [
        "________________________________________________________________________________\r\n",
        "Training: [Model Type: NLTKBigramUnigramCombo]\r\n",
        "<class 'nltk.classify.decisiontree.DecisionTreeClassifier'>\r\n"
       ]
      },
      {
       "output_type": "stream",
       "stream": "stdout",
       "text": [
        "train time: 4324.555s\r\n",
        "test time:  0.009s\r\n",
        "Sensitive precision: 0.285714285714\r\n",
        "Sensitive recall: 0.2\r\n",
        "Sensitive F-measure: 0.235294117647\r\n",
        "Not Sens precision: 0.958333333333\r\n",
        "Not Sens recall: 0.973544973545\r\n",
        "Not Sens F-measure: 0.965879265092\r\n",
        "\r\n",
        "50 most informative features\r\n",
        "Traceback (most recent call last):\r\n",
        "  File \"classify.py\", line 476, in <module>\r\n",
        "    main()\r\n",
        "  File \"classify.py\", line 83, in main\r\n",
        "    benchmarkNLTK(clf,bm)\r\n",
        "  File \"classify.py\", line 400, in benchmarkNLTK\r\n",
        "    clf.show_most_informative_features(50)\r\n",
        "AttributeError: 'DecisionTreeClassifier' object has no attribute 'show_most_informative_features'\r\n"
       ]
      }
     ],
     "prompt_number": 3
    }
   ],
   "metadata": {}
  }
 ]
}